{
  "nbformat": 4,
  "nbformat_minor": 0,
  "metadata": {
    "colab": {
      "name": "feed_forward_nn.ipynb",
      "provenance": []
    },
    "kernelspec": {
      "name": "python3",
      "display_name": "Python 3"
    },
    "widgets": {
      "application/vnd.jupyter.widget-state+json": {
        "f96cdf6685db4f4aa62534f54b26bca6": {
          "model_module": "@jupyter-widgets/controls",
          "model_name": "HBoxModel",
          "state": {
            "_view_name": "HBoxView",
            "_dom_classes": [],
            "_model_name": "HBoxModel",
            "_view_module": "@jupyter-widgets/controls",
            "_model_module_version": "1.5.0",
            "_view_count": null,
            "_view_module_version": "1.5.0",
            "box_style": "",
            "layout": "IPY_MODEL_d2fb0b7b8eb940838c4a8e9b3d7b713e",
            "_model_module": "@jupyter-widgets/controls",
            "children": [
              "IPY_MODEL_b6e7694af3ec44b1b724814cc8fe1efe",
              "IPY_MODEL_3e1e2b13d35744e9a9b698464ec385a0"
            ]
          }
        },
        "d2fb0b7b8eb940838c4a8e9b3d7b713e": {
          "model_module": "@jupyter-widgets/base",
          "model_name": "LayoutModel",
          "state": {
            "_view_name": "LayoutView",
            "grid_template_rows": null,
            "right": null,
            "justify_content": null,
            "_view_module": "@jupyter-widgets/base",
            "overflow": null,
            "_model_module_version": "1.2.0",
            "_view_count": null,
            "flex_flow": null,
            "width": null,
            "min_width": null,
            "border": null,
            "align_items": null,
            "bottom": null,
            "_model_module": "@jupyter-widgets/base",
            "top": null,
            "grid_column": null,
            "overflow_y": null,
            "overflow_x": null,
            "grid_auto_flow": null,
            "grid_area": null,
            "grid_template_columns": null,
            "flex": null,
            "_model_name": "LayoutModel",
            "justify_items": null,
            "grid_row": null,
            "max_height": null,
            "align_content": null,
            "visibility": null,
            "align_self": null,
            "height": null,
            "min_height": null,
            "padding": null,
            "grid_auto_rows": null,
            "grid_gap": null,
            "max_width": null,
            "order": null,
            "_view_module_version": "1.2.0",
            "grid_template_areas": null,
            "object_position": null,
            "object_fit": null,
            "grid_auto_columns": null,
            "margin": null,
            "display": null,
            "left": null
          }
        },
        "b6e7694af3ec44b1b724814cc8fe1efe": {
          "model_module": "@jupyter-widgets/controls",
          "model_name": "IntProgressModel",
          "state": {
            "_view_name": "ProgressView",
            "style": "IPY_MODEL_9811462d814f48df9183462fd543f85c",
            "_dom_classes": [],
            "description": "100%",
            "_model_name": "IntProgressModel",
            "bar_style": "success",
            "max": 1000,
            "_view_module": "@jupyter-widgets/controls",
            "_model_module_version": "1.5.0",
            "value": 1000,
            "_view_count": null,
            "_view_module_version": "1.5.0",
            "orientation": "horizontal",
            "min": 0,
            "description_tooltip": null,
            "_model_module": "@jupyter-widgets/controls",
            "layout": "IPY_MODEL_b5a04e75ce694e0b956f9ab44b71b9f7"
          }
        },
        "3e1e2b13d35744e9a9b698464ec385a0": {
          "model_module": "@jupyter-widgets/controls",
          "model_name": "HTMLModel",
          "state": {
            "_view_name": "HTMLView",
            "style": "IPY_MODEL_217cc3b1433c4662b690261da6ccaa82",
            "_dom_classes": [],
            "description": "",
            "_model_name": "HTMLModel",
            "placeholder": "​",
            "_view_module": "@jupyter-widgets/controls",
            "_model_module_version": "1.5.0",
            "value": " 1000/1000 [00:39&lt;00:00, 25.58epoch/s]",
            "_view_count": null,
            "_view_module_version": "1.5.0",
            "description_tooltip": null,
            "_model_module": "@jupyter-widgets/controls",
            "layout": "IPY_MODEL_2479b84f50ec4c3eb08324839bc4e044"
          }
        },
        "9811462d814f48df9183462fd543f85c": {
          "model_module": "@jupyter-widgets/controls",
          "model_name": "ProgressStyleModel",
          "state": {
            "_view_name": "StyleView",
            "_model_name": "ProgressStyleModel",
            "description_width": "initial",
            "_view_module": "@jupyter-widgets/base",
            "_model_module_version": "1.5.0",
            "_view_count": null,
            "_view_module_version": "1.2.0",
            "bar_color": null,
            "_model_module": "@jupyter-widgets/controls"
          }
        },
        "b5a04e75ce694e0b956f9ab44b71b9f7": {
          "model_module": "@jupyter-widgets/base",
          "model_name": "LayoutModel",
          "state": {
            "_view_name": "LayoutView",
            "grid_template_rows": null,
            "right": null,
            "justify_content": null,
            "_view_module": "@jupyter-widgets/base",
            "overflow": null,
            "_model_module_version": "1.2.0",
            "_view_count": null,
            "flex_flow": null,
            "width": null,
            "min_width": null,
            "border": null,
            "align_items": null,
            "bottom": null,
            "_model_module": "@jupyter-widgets/base",
            "top": null,
            "grid_column": null,
            "overflow_y": null,
            "overflow_x": null,
            "grid_auto_flow": null,
            "grid_area": null,
            "grid_template_columns": null,
            "flex": null,
            "_model_name": "LayoutModel",
            "justify_items": null,
            "grid_row": null,
            "max_height": null,
            "align_content": null,
            "visibility": null,
            "align_self": null,
            "height": null,
            "min_height": null,
            "padding": null,
            "grid_auto_rows": null,
            "grid_gap": null,
            "max_width": null,
            "order": null,
            "_view_module_version": "1.2.0",
            "grid_template_areas": null,
            "object_position": null,
            "object_fit": null,
            "grid_auto_columns": null,
            "margin": null,
            "display": null,
            "left": null
          }
        },
        "217cc3b1433c4662b690261da6ccaa82": {
          "model_module": "@jupyter-widgets/controls",
          "model_name": "DescriptionStyleModel",
          "state": {
            "_view_name": "StyleView",
            "_model_name": "DescriptionStyleModel",
            "description_width": "",
            "_view_module": "@jupyter-widgets/base",
            "_model_module_version": "1.5.0",
            "_view_count": null,
            "_view_module_version": "1.2.0",
            "_model_module": "@jupyter-widgets/controls"
          }
        },
        "2479b84f50ec4c3eb08324839bc4e044": {
          "model_module": "@jupyter-widgets/base",
          "model_name": "LayoutModel",
          "state": {
            "_view_name": "LayoutView",
            "grid_template_rows": null,
            "right": null,
            "justify_content": null,
            "_view_module": "@jupyter-widgets/base",
            "overflow": null,
            "_model_module_version": "1.2.0",
            "_view_count": null,
            "flex_flow": null,
            "width": null,
            "min_width": null,
            "border": null,
            "align_items": null,
            "bottom": null,
            "_model_module": "@jupyter-widgets/base",
            "top": null,
            "grid_column": null,
            "overflow_y": null,
            "overflow_x": null,
            "grid_auto_flow": null,
            "grid_area": null,
            "grid_template_columns": null,
            "flex": null,
            "_model_name": "LayoutModel",
            "justify_items": null,
            "grid_row": null,
            "max_height": null,
            "align_content": null,
            "visibility": null,
            "align_self": null,
            "height": null,
            "min_height": null,
            "padding": null,
            "grid_auto_rows": null,
            "grid_gap": null,
            "max_width": null,
            "order": null,
            "_view_module_version": "1.2.0",
            "grid_template_areas": null,
            "object_position": null,
            "object_fit": null,
            "grid_auto_columns": null,
            "margin": null,
            "display": null,
            "left": null
          }
        },
        "dff6115fc6604d3796017e9c0dad637d": {
          "model_module": "@jupyter-widgets/controls",
          "model_name": "HBoxModel",
          "state": {
            "_view_name": "HBoxView",
            "_dom_classes": [],
            "_model_name": "HBoxModel",
            "_view_module": "@jupyter-widgets/controls",
            "_model_module_version": "1.5.0",
            "_view_count": null,
            "_view_module_version": "1.5.0",
            "box_style": "",
            "layout": "IPY_MODEL_8b2ce44ced6a4621b420404888abd884",
            "_model_module": "@jupyter-widgets/controls",
            "children": [
              "IPY_MODEL_51d4fae1383e46868bea67b765edebf5",
              "IPY_MODEL_46728af4498b4bbcbbe8e02c44ce24f3"
            ]
          }
        },
        "8b2ce44ced6a4621b420404888abd884": {
          "model_module": "@jupyter-widgets/base",
          "model_name": "LayoutModel",
          "state": {
            "_view_name": "LayoutView",
            "grid_template_rows": null,
            "right": null,
            "justify_content": null,
            "_view_module": "@jupyter-widgets/base",
            "overflow": null,
            "_model_module_version": "1.2.0",
            "_view_count": null,
            "flex_flow": null,
            "width": null,
            "min_width": null,
            "border": null,
            "align_items": null,
            "bottom": null,
            "_model_module": "@jupyter-widgets/base",
            "top": null,
            "grid_column": null,
            "overflow_y": null,
            "overflow_x": null,
            "grid_auto_flow": null,
            "grid_area": null,
            "grid_template_columns": null,
            "flex": null,
            "_model_name": "LayoutModel",
            "justify_items": null,
            "grid_row": null,
            "max_height": null,
            "align_content": null,
            "visibility": null,
            "align_self": null,
            "height": null,
            "min_height": null,
            "padding": null,
            "grid_auto_rows": null,
            "grid_gap": null,
            "max_width": null,
            "order": null,
            "_view_module_version": "1.2.0",
            "grid_template_areas": null,
            "object_position": null,
            "object_fit": null,
            "grid_auto_columns": null,
            "margin": null,
            "display": null,
            "left": null
          }
        },
        "51d4fae1383e46868bea67b765edebf5": {
          "model_module": "@jupyter-widgets/controls",
          "model_name": "IntProgressModel",
          "state": {
            "_view_name": "ProgressView",
            "style": "IPY_MODEL_e920a23e10604a21a9fc3f02fd727f87",
            "_dom_classes": [],
            "description": "100%",
            "_model_name": "IntProgressModel",
            "bar_style": "success",
            "max": 2000,
            "_view_module": "@jupyter-widgets/controls",
            "_model_module_version": "1.5.0",
            "value": 2000,
            "_view_count": null,
            "_view_module_version": "1.5.0",
            "orientation": "horizontal",
            "min": 0,
            "description_tooltip": null,
            "_model_module": "@jupyter-widgets/controls",
            "layout": "IPY_MODEL_2b15fd3be57149a09ec794063f901a43"
          }
        },
        "46728af4498b4bbcbbe8e02c44ce24f3": {
          "model_module": "@jupyter-widgets/controls",
          "model_name": "HTMLModel",
          "state": {
            "_view_name": "HTMLView",
            "style": "IPY_MODEL_e009543d551346e6ae06d58630173e05",
            "_dom_classes": [],
            "description": "",
            "_model_name": "HTMLModel",
            "placeholder": "​",
            "_view_module": "@jupyter-widgets/controls",
            "_model_module_version": "1.5.0",
            "value": " 2000/2000 [09:32&lt;00:00,  3.49epoch/s]",
            "_view_count": null,
            "_view_module_version": "1.5.0",
            "description_tooltip": null,
            "_model_module": "@jupyter-widgets/controls",
            "layout": "IPY_MODEL_e80f947e2ce944c08cbe3d7a53a4c7a4"
          }
        },
        "e920a23e10604a21a9fc3f02fd727f87": {
          "model_module": "@jupyter-widgets/controls",
          "model_name": "ProgressStyleModel",
          "state": {
            "_view_name": "StyleView",
            "_model_name": "ProgressStyleModel",
            "description_width": "initial",
            "_view_module": "@jupyter-widgets/base",
            "_model_module_version": "1.5.0",
            "_view_count": null,
            "_view_module_version": "1.2.0",
            "bar_color": null,
            "_model_module": "@jupyter-widgets/controls"
          }
        },
        "2b15fd3be57149a09ec794063f901a43": {
          "model_module": "@jupyter-widgets/base",
          "model_name": "LayoutModel",
          "state": {
            "_view_name": "LayoutView",
            "grid_template_rows": null,
            "right": null,
            "justify_content": null,
            "_view_module": "@jupyter-widgets/base",
            "overflow": null,
            "_model_module_version": "1.2.0",
            "_view_count": null,
            "flex_flow": null,
            "width": null,
            "min_width": null,
            "border": null,
            "align_items": null,
            "bottom": null,
            "_model_module": "@jupyter-widgets/base",
            "top": null,
            "grid_column": null,
            "overflow_y": null,
            "overflow_x": null,
            "grid_auto_flow": null,
            "grid_area": null,
            "grid_template_columns": null,
            "flex": null,
            "_model_name": "LayoutModel",
            "justify_items": null,
            "grid_row": null,
            "max_height": null,
            "align_content": null,
            "visibility": null,
            "align_self": null,
            "height": null,
            "min_height": null,
            "padding": null,
            "grid_auto_rows": null,
            "grid_gap": null,
            "max_width": null,
            "order": null,
            "_view_module_version": "1.2.0",
            "grid_template_areas": null,
            "object_position": null,
            "object_fit": null,
            "grid_auto_columns": null,
            "margin": null,
            "display": null,
            "left": null
          }
        },
        "e009543d551346e6ae06d58630173e05": {
          "model_module": "@jupyter-widgets/controls",
          "model_name": "DescriptionStyleModel",
          "state": {
            "_view_name": "StyleView",
            "_model_name": "DescriptionStyleModel",
            "description_width": "",
            "_view_module": "@jupyter-widgets/base",
            "_model_module_version": "1.5.0",
            "_view_count": null,
            "_view_module_version": "1.2.0",
            "_model_module": "@jupyter-widgets/controls"
          }
        },
        "e80f947e2ce944c08cbe3d7a53a4c7a4": {
          "model_module": "@jupyter-widgets/base",
          "model_name": "LayoutModel",
          "state": {
            "_view_name": "LayoutView",
            "grid_template_rows": null,
            "right": null,
            "justify_content": null,
            "_view_module": "@jupyter-widgets/base",
            "overflow": null,
            "_model_module_version": "1.2.0",
            "_view_count": null,
            "flex_flow": null,
            "width": null,
            "min_width": null,
            "border": null,
            "align_items": null,
            "bottom": null,
            "_model_module": "@jupyter-widgets/base",
            "top": null,
            "grid_column": null,
            "overflow_y": null,
            "overflow_x": null,
            "grid_auto_flow": null,
            "grid_area": null,
            "grid_template_columns": null,
            "flex": null,
            "_model_name": "LayoutModel",
            "justify_items": null,
            "grid_row": null,
            "max_height": null,
            "align_content": null,
            "visibility": null,
            "align_self": null,
            "height": null,
            "min_height": null,
            "padding": null,
            "grid_auto_rows": null,
            "grid_gap": null,
            "max_width": null,
            "order": null,
            "_view_module_version": "1.2.0",
            "grid_template_areas": null,
            "object_position": null,
            "object_fit": null,
            "grid_auto_columns": null,
            "margin": null,
            "display": null,
            "left": null
          }
        },
        "0abe98dcc1394c5eb3d19116e9c977e3": {
          "model_module": "@jupyter-widgets/controls",
          "model_name": "HBoxModel",
          "state": {
            "_view_name": "HBoxView",
            "_dom_classes": [],
            "_model_name": "HBoxModel",
            "_view_module": "@jupyter-widgets/controls",
            "_model_module_version": "1.5.0",
            "_view_count": null,
            "_view_module_version": "1.5.0",
            "box_style": "",
            "layout": "IPY_MODEL_77de76af9bcd426f849212663e169edb",
            "_model_module": "@jupyter-widgets/controls",
            "children": [
              "IPY_MODEL_7a7b1dadd7b24cc789f6eea7fee25ce9",
              "IPY_MODEL_c333945e501649f6b1ba3b697d629d61"
            ]
          }
        },
        "77de76af9bcd426f849212663e169edb": {
          "model_module": "@jupyter-widgets/base",
          "model_name": "LayoutModel",
          "state": {
            "_view_name": "LayoutView",
            "grid_template_rows": null,
            "right": null,
            "justify_content": null,
            "_view_module": "@jupyter-widgets/base",
            "overflow": null,
            "_model_module_version": "1.2.0",
            "_view_count": null,
            "flex_flow": null,
            "width": null,
            "min_width": null,
            "border": null,
            "align_items": null,
            "bottom": null,
            "_model_module": "@jupyter-widgets/base",
            "top": null,
            "grid_column": null,
            "overflow_y": null,
            "overflow_x": null,
            "grid_auto_flow": null,
            "grid_area": null,
            "grid_template_columns": null,
            "flex": null,
            "_model_name": "LayoutModel",
            "justify_items": null,
            "grid_row": null,
            "max_height": null,
            "align_content": null,
            "visibility": null,
            "align_self": null,
            "height": null,
            "min_height": null,
            "padding": null,
            "grid_auto_rows": null,
            "grid_gap": null,
            "max_width": null,
            "order": null,
            "_view_module_version": "1.2.0",
            "grid_template_areas": null,
            "object_position": null,
            "object_fit": null,
            "grid_auto_columns": null,
            "margin": null,
            "display": null,
            "left": null
          }
        },
        "7a7b1dadd7b24cc789f6eea7fee25ce9": {
          "model_module": "@jupyter-widgets/controls",
          "model_name": "IntProgressModel",
          "state": {
            "_view_name": "ProgressView",
            "style": "IPY_MODEL_7b55ad4afa7a48cf96ede8d79b15e28b",
            "_dom_classes": [],
            "description": "100%",
            "_model_name": "IntProgressModel",
            "bar_style": "success",
            "max": 1000,
            "_view_module": "@jupyter-widgets/controls",
            "_model_module_version": "1.5.0",
            "value": 1000,
            "_view_count": null,
            "_view_module_version": "1.5.0",
            "orientation": "horizontal",
            "min": 0,
            "description_tooltip": null,
            "_model_module": "@jupyter-widgets/controls",
            "layout": "IPY_MODEL_8193861f1d85416290bacde8ecd2fd1b"
          }
        },
        "c333945e501649f6b1ba3b697d629d61": {
          "model_module": "@jupyter-widgets/controls",
          "model_name": "HTMLModel",
          "state": {
            "_view_name": "HTMLView",
            "style": "IPY_MODEL_0434d40777b6463daad8cfdb6e5e7b8e",
            "_dom_classes": [],
            "description": "",
            "_model_name": "HTMLModel",
            "placeholder": "​",
            "_view_module": "@jupyter-widgets/controls",
            "_model_module_version": "1.5.0",
            "value": " 1000/1000 [01:02&lt;00:00, 16.13epoch/s]",
            "_view_count": null,
            "_view_module_version": "1.5.0",
            "description_tooltip": null,
            "_model_module": "@jupyter-widgets/controls",
            "layout": "IPY_MODEL_13abbb44d0fd48a29e390b01441b33a6"
          }
        },
        "7b55ad4afa7a48cf96ede8d79b15e28b": {
          "model_module": "@jupyter-widgets/controls",
          "model_name": "ProgressStyleModel",
          "state": {
            "_view_name": "StyleView",
            "_model_name": "ProgressStyleModel",
            "description_width": "initial",
            "_view_module": "@jupyter-widgets/base",
            "_model_module_version": "1.5.0",
            "_view_count": null,
            "_view_module_version": "1.2.0",
            "bar_color": null,
            "_model_module": "@jupyter-widgets/controls"
          }
        },
        "8193861f1d85416290bacde8ecd2fd1b": {
          "model_module": "@jupyter-widgets/base",
          "model_name": "LayoutModel",
          "state": {
            "_view_name": "LayoutView",
            "grid_template_rows": null,
            "right": null,
            "justify_content": null,
            "_view_module": "@jupyter-widgets/base",
            "overflow": null,
            "_model_module_version": "1.2.0",
            "_view_count": null,
            "flex_flow": null,
            "width": null,
            "min_width": null,
            "border": null,
            "align_items": null,
            "bottom": null,
            "_model_module": "@jupyter-widgets/base",
            "top": null,
            "grid_column": null,
            "overflow_y": null,
            "overflow_x": null,
            "grid_auto_flow": null,
            "grid_area": null,
            "grid_template_columns": null,
            "flex": null,
            "_model_name": "LayoutModel",
            "justify_items": null,
            "grid_row": null,
            "max_height": null,
            "align_content": null,
            "visibility": null,
            "align_self": null,
            "height": null,
            "min_height": null,
            "padding": null,
            "grid_auto_rows": null,
            "grid_gap": null,
            "max_width": null,
            "order": null,
            "_view_module_version": "1.2.0",
            "grid_template_areas": null,
            "object_position": null,
            "object_fit": null,
            "grid_auto_columns": null,
            "margin": null,
            "display": null,
            "left": null
          }
        },
        "0434d40777b6463daad8cfdb6e5e7b8e": {
          "model_module": "@jupyter-widgets/controls",
          "model_name": "DescriptionStyleModel",
          "state": {
            "_view_name": "StyleView",
            "_model_name": "DescriptionStyleModel",
            "description_width": "",
            "_view_module": "@jupyter-widgets/base",
            "_model_module_version": "1.5.0",
            "_view_count": null,
            "_view_module_version": "1.2.0",
            "_model_module": "@jupyter-widgets/controls"
          }
        },
        "13abbb44d0fd48a29e390b01441b33a6": {
          "model_module": "@jupyter-widgets/base",
          "model_name": "LayoutModel",
          "state": {
            "_view_name": "LayoutView",
            "grid_template_rows": null,
            "right": null,
            "justify_content": null,
            "_view_module": "@jupyter-widgets/base",
            "overflow": null,
            "_model_module_version": "1.2.0",
            "_view_count": null,
            "flex_flow": null,
            "width": null,
            "min_width": null,
            "border": null,
            "align_items": null,
            "bottom": null,
            "_model_module": "@jupyter-widgets/base",
            "top": null,
            "grid_column": null,
            "overflow_y": null,
            "overflow_x": null,
            "grid_auto_flow": null,
            "grid_area": null,
            "grid_template_columns": null,
            "flex": null,
            "_model_name": "LayoutModel",
            "justify_items": null,
            "grid_row": null,
            "max_height": null,
            "align_content": null,
            "visibility": null,
            "align_self": null,
            "height": null,
            "min_height": null,
            "padding": null,
            "grid_auto_rows": null,
            "grid_gap": null,
            "max_width": null,
            "order": null,
            "_view_module_version": "1.2.0",
            "grid_template_areas": null,
            "object_position": null,
            "object_fit": null,
            "grid_auto_columns": null,
            "margin": null,
            "display": null,
            "left": null
          }
        },
        "5fe185cb3042459a8bf9a86cfaacb800": {
          "model_module": "@jupyter-widgets/controls",
          "model_name": "HBoxModel",
          "state": {
            "_view_name": "HBoxView",
            "_dom_classes": [],
            "_model_name": "HBoxModel",
            "_view_module": "@jupyter-widgets/controls",
            "_model_module_version": "1.5.0",
            "_view_count": null,
            "_view_module_version": "1.5.0",
            "box_style": "",
            "layout": "IPY_MODEL_49966cfbd9a24ae381e448a905125267",
            "_model_module": "@jupyter-widgets/controls",
            "children": [
              "IPY_MODEL_a8b795defaef4f59a1efa6d1deaca54e",
              "IPY_MODEL_1b690d0a5c2b4cfeae5607ea92ef1af7"
            ]
          }
        },
        "49966cfbd9a24ae381e448a905125267": {
          "model_module": "@jupyter-widgets/base",
          "model_name": "LayoutModel",
          "state": {
            "_view_name": "LayoutView",
            "grid_template_rows": null,
            "right": null,
            "justify_content": null,
            "_view_module": "@jupyter-widgets/base",
            "overflow": null,
            "_model_module_version": "1.2.0",
            "_view_count": null,
            "flex_flow": null,
            "width": null,
            "min_width": null,
            "border": null,
            "align_items": null,
            "bottom": null,
            "_model_module": "@jupyter-widgets/base",
            "top": null,
            "grid_column": null,
            "overflow_y": null,
            "overflow_x": null,
            "grid_auto_flow": null,
            "grid_area": null,
            "grid_template_columns": null,
            "flex": null,
            "_model_name": "LayoutModel",
            "justify_items": null,
            "grid_row": null,
            "max_height": null,
            "align_content": null,
            "visibility": null,
            "align_self": null,
            "height": null,
            "min_height": null,
            "padding": null,
            "grid_auto_rows": null,
            "grid_gap": null,
            "max_width": null,
            "order": null,
            "_view_module_version": "1.2.0",
            "grid_template_areas": null,
            "object_position": null,
            "object_fit": null,
            "grid_auto_columns": null,
            "margin": null,
            "display": null,
            "left": null
          }
        },
        "a8b795defaef4f59a1efa6d1deaca54e": {
          "model_module": "@jupyter-widgets/controls",
          "model_name": "IntProgressModel",
          "state": {
            "_view_name": "ProgressView",
            "style": "IPY_MODEL_b4cf3ec616e9440a932e8996f945945c",
            "_dom_classes": [],
            "description": "100%",
            "_model_name": "IntProgressModel",
            "bar_style": "success",
            "max": 2000,
            "_view_module": "@jupyter-widgets/controls",
            "_model_module_version": "1.5.0",
            "value": 2000,
            "_view_count": null,
            "_view_module_version": "1.5.0",
            "orientation": "horizontal",
            "min": 0,
            "description_tooltip": null,
            "_model_module": "@jupyter-widgets/controls",
            "layout": "IPY_MODEL_4b296623d0e042e9abc8df02e6bdf1ae"
          }
        },
        "1b690d0a5c2b4cfeae5607ea92ef1af7": {
          "model_module": "@jupyter-widgets/controls",
          "model_name": "HTMLModel",
          "state": {
            "_view_name": "HTMLView",
            "style": "IPY_MODEL_64e8ee1d59a54a029bcddf2ccd790fff",
            "_dom_classes": [],
            "description": "",
            "_model_name": "HTMLModel",
            "placeholder": "​",
            "_view_module": "@jupyter-widgets/controls",
            "_model_module_version": "1.5.0",
            "value": " 2000/2000 [02:24&lt;00:00, 13.82epoch/s]",
            "_view_count": null,
            "_view_module_version": "1.5.0",
            "description_tooltip": null,
            "_model_module": "@jupyter-widgets/controls",
            "layout": "IPY_MODEL_ae2b49fa855145b1af64b6efde4da6df"
          }
        },
        "b4cf3ec616e9440a932e8996f945945c": {
          "model_module": "@jupyter-widgets/controls",
          "model_name": "ProgressStyleModel",
          "state": {
            "_view_name": "StyleView",
            "_model_name": "ProgressStyleModel",
            "description_width": "initial",
            "_view_module": "@jupyter-widgets/base",
            "_model_module_version": "1.5.0",
            "_view_count": null,
            "_view_module_version": "1.2.0",
            "bar_color": null,
            "_model_module": "@jupyter-widgets/controls"
          }
        },
        "4b296623d0e042e9abc8df02e6bdf1ae": {
          "model_module": "@jupyter-widgets/base",
          "model_name": "LayoutModel",
          "state": {
            "_view_name": "LayoutView",
            "grid_template_rows": null,
            "right": null,
            "justify_content": null,
            "_view_module": "@jupyter-widgets/base",
            "overflow": null,
            "_model_module_version": "1.2.0",
            "_view_count": null,
            "flex_flow": null,
            "width": null,
            "min_width": null,
            "border": null,
            "align_items": null,
            "bottom": null,
            "_model_module": "@jupyter-widgets/base",
            "top": null,
            "grid_column": null,
            "overflow_y": null,
            "overflow_x": null,
            "grid_auto_flow": null,
            "grid_area": null,
            "grid_template_columns": null,
            "flex": null,
            "_model_name": "LayoutModel",
            "justify_items": null,
            "grid_row": null,
            "max_height": null,
            "align_content": null,
            "visibility": null,
            "align_self": null,
            "height": null,
            "min_height": null,
            "padding": null,
            "grid_auto_rows": null,
            "grid_gap": null,
            "max_width": null,
            "order": null,
            "_view_module_version": "1.2.0",
            "grid_template_areas": null,
            "object_position": null,
            "object_fit": null,
            "grid_auto_columns": null,
            "margin": null,
            "display": null,
            "left": null
          }
        },
        "64e8ee1d59a54a029bcddf2ccd790fff": {
          "model_module": "@jupyter-widgets/controls",
          "model_name": "DescriptionStyleModel",
          "state": {
            "_view_name": "StyleView",
            "_model_name": "DescriptionStyleModel",
            "description_width": "",
            "_view_module": "@jupyter-widgets/base",
            "_model_module_version": "1.5.0",
            "_view_count": null,
            "_view_module_version": "1.2.0",
            "_model_module": "@jupyter-widgets/controls"
          }
        },
        "ae2b49fa855145b1af64b6efde4da6df": {
          "model_module": "@jupyter-widgets/base",
          "model_name": "LayoutModel",
          "state": {
            "_view_name": "LayoutView",
            "grid_template_rows": null,
            "right": null,
            "justify_content": null,
            "_view_module": "@jupyter-widgets/base",
            "overflow": null,
            "_model_module_version": "1.2.0",
            "_view_count": null,
            "flex_flow": null,
            "width": null,
            "min_width": null,
            "border": null,
            "align_items": null,
            "bottom": null,
            "_model_module": "@jupyter-widgets/base",
            "top": null,
            "grid_column": null,
            "overflow_y": null,
            "overflow_x": null,
            "grid_auto_flow": null,
            "grid_area": null,
            "grid_template_columns": null,
            "flex": null,
            "_model_name": "LayoutModel",
            "justify_items": null,
            "grid_row": null,
            "max_height": null,
            "align_content": null,
            "visibility": null,
            "align_self": null,
            "height": null,
            "min_height": null,
            "padding": null,
            "grid_auto_rows": null,
            "grid_gap": null,
            "max_width": null,
            "order": null,
            "_view_module_version": "1.2.0",
            "grid_template_areas": null,
            "object_position": null,
            "object_fit": null,
            "grid_auto_columns": null,
            "margin": null,
            "display": null,
            "left": null
          }
        }
      }
    }
  },
  "cells": [
    {
      "cell_type": "markdown",
      "metadata": {
        "id": "6kfHkRrDtbTL",
        "colab_type": "text"
      },
      "source": [
        "# Importing Packages"
      ]
    },
    {
      "cell_type": "code",
      "metadata": {
        "id": "toXDJOG4BYhM",
        "colab_type": "code",
        "colab": {}
      },
      "source": [
        "import numpy as np\n",
        "import pandas as pd\n",
        "import matplotlib.pyplot as plt\n",
        "import matplotlib.colors\n",
        "from sklearn.model_selection import train_test_split\n",
        "from sklearn.metrics import accuracy_score, mean_squared_error, log_loss\n",
        "from tqdm import tqdm_notebook\n",
        "\n",
        "from sklearn.preprocessing import OneHotEncoder\n",
        "from sklearn.datasets import make_blobs"
      ],
      "execution_count": 0,
      "outputs": []
    },
    {
      "cell_type": "markdown",
      "metadata": {
        "id": "Jyr-6D7atVfS",
        "colab_type": "text"
      },
      "source": [
        "# Class for Sigmoid Neuron"
      ]
    },
    {
      "cell_type": "code",
      "metadata": {
        "id": "lmi97_mvl5vI",
        "colab_type": "code",
        "colab": {}
      },
      "source": [
        "class SigmoidNeuron:\n",
        "    def __init__(self):\n",
        "        self.w = None\n",
        "        self.b = None\n",
        "    \n",
        "    def perceptron(self, x):\n",
        "        return np.dot(x, self.w.T) + self.b\n",
        "\n",
        "    def sigmoid(self, x):\n",
        "        return 1.0/(1.0+np.exp(-x))\n",
        "\n",
        "    def grad_w_mse(self,x,y):\n",
        "        y_pred = self.sigmoid(self.perceptron(x))\n",
        "        return (y_pred-y) * y_pred * (1-y_pred) * x\n",
        "    \n",
        "    def grad_b_mse(self,x,y):\n",
        "        y_pred = self.sigmoid(self.perceptron(x))\n",
        "        return (y_pred-y) * y_pred * (1-y_pred)\n",
        "\n",
        "    def grad_w_ce(self,x,y):\n",
        "        y_pred = self.sigmoid(self.perceptron(x))\n",
        "        if y==0:\n",
        "            return y_pred * x\n",
        "        elif y==1:\n",
        "            return -1 * (1-y_pred) * x\n",
        "        else:\n",
        "            raise ValueError(\"y should be either 0 or 1\")\n",
        "    \n",
        "    def grad_b_ce(self,x,y):\n",
        "        y_pred = self.sigmoid(self.perceptron(x))\n",
        "        if y==0:\n",
        "            return y_pred\n",
        "        elif y==1:\n",
        "            return -1 * (1-y_pred)\n",
        "        else:\n",
        "            raise ValueError(\"y should be either 0 or 1\")\n",
        "\n",
        "    def fit(self, X, Y, epochs=1, learning_rate=1, initialise=True, loss_fn='mse', display_loss=False):\n",
        "\n",
        "        if initialise:\n",
        "            self.w = np.random.randn(1, X.shape[1])\n",
        "            self.b = 0\n",
        "        \n",
        "        if display_loss:\n",
        "            loss = {}\n",
        "\n",
        "        for i in tqdm_notebook(range(epochs), total=epochs, unit='epoch'):\n",
        "            dw = 0\n",
        "            db = 0\n",
        "            for x,y in zip(X,Y):\n",
        "                if loss_fn == \"mse\":\n",
        "                    dw += self.grad_w_mse(x,y)\n",
        "                    db += self.grad_b_mse(x,y)\n",
        "                elif loss_fn == \"ce\":\n",
        "                    dw += self.grad_w_ce(x,y)\n",
        "                    db += self.grad_b_ce(x,y)\n",
        "            \n",
        "            m = X.shape[1]\n",
        "            self.w -= learning_rate*dw/m\n",
        "            self.b -= learning_rate*db/m\n",
        "\n",
        "            if display_loss:\n",
        "                Y_pred = self.sigmoid(self.perceptron(X))\n",
        "                if loss_fn == \"mse\":\n",
        "                    loss[i] = mean_squared_error(Y, Y_pred)\n",
        "                elif loss_fn == \"ce\":\n",
        "                    loss[i] = log_loss(Y, Y_pred)\n",
        "\n",
        "        if display_loss:\n",
        "            plt.plot(np.array(list(loss.values())).astype(float))\n",
        "            plt.xlabel('Epochs')\n",
        "            if loss_fn == \"mse\":\n",
        "                plt.ylabel(\"Mean Squared Error\")\n",
        "            elif loss_fn == \"ce\":\n",
        "                plt.ylabel(\"Log Loss\")\n",
        "            plt.show()\n",
        "\n",
        "    def predict(self, X):\n",
        "        Y_pred = []\n",
        "        for x in X:\n",
        "            y_pred = self.sigmoid(self.perceptron(x))\n",
        "            Y_pred.append(y_pred)\n",
        "        return np.array(Y_pred)"
      ],
      "execution_count": 0,
      "outputs": []
    },
    {
      "cell_type": "code",
      "metadata": {
        "id": "vJivOD1UrRhP",
        "colab_type": "code",
        "colab": {}
      },
      "source": [
        "my_cmap = matplotlib.colors.LinearSegmentedColormap.from_list(\"\", [\"red\", \"yellow\", \"green\"])"
      ],
      "execution_count": 0,
      "outputs": []
    },
    {
      "cell_type": "markdown",
      "metadata": {
        "id": "ahvB7SVRtgu7",
        "colab_type": "text"
      },
      "source": [
        "# Generating Data"
      ]
    },
    {
      "cell_type": "code",
      "metadata": {
        "id": "wIdjpcEdrde6",
        "colab_type": "code",
        "colab": {
          "base_uri": "https://localhost:8080/",
          "height": 0
        },
        "outputId": "6b628107-44ea-4509-f239-43b00102ad5d"
      },
      "source": [
        "data, labels = make_blobs(n_samples=1000, centers=4, n_features=2, random_state=0)\n",
        "print(data.shape, labels.shape)"
      ],
      "execution_count": 4,
      "outputs": [
        {
          "output_type": "stream",
          "text": [
            "(1000, 2) (1000,)\n"
          ],
          "name": "stdout"
        }
      ]
    },
    {
      "cell_type": "code",
      "metadata": {
        "id": "pi_mVn0ArwdE",
        "colab_type": "code",
        "colab": {
          "base_uri": "https://localhost:8080/",
          "height": 0
        },
        "outputId": "5aae754c-ada2-49cb-91fc-f98d82b75d50"
      },
      "source": [
        "plt.scatter(data[:,0], data[:,1], c=labels, cmap=my_cmap)\n",
        "plt.show()"
      ],
      "execution_count": 5,
      "outputs": [
        {
          "output_type": "display_data",
          "data": {
            "image/png": "[encoded data removed]",
            "text/plain": [
              "<Figure size 432x288 with 1 Axes>"
            ]
          },
          "metadata": {
            "tags": [],
            "needs_background": "light"
          }
        }
      ]
    },
    {
      "cell_type": "code",
      "metadata": {
        "id": "9GNqWorKsN1z",
        "colab_type": "code",
        "colab": {}
      },
      "source": [
        "labels_orig = labels\n",
        "labels = np.mod(labels_orig, 2)"
      ],
      "execution_count": 0,
      "outputs": []
    },
    {
      "cell_type": "code",
      "metadata": {
        "id": "MXvnDpIvsi5P",
        "colab_type": "code",
        "colab": {
          "base_uri": "https://localhost:8080/",
          "height": 0
        },
        "outputId": "9f68433b-ff47-4239-c154-67132607ddfa"
      },
      "source": [
        "plt.scatter(data[:,0], data[:,1], c=labels, cmap=my_cmap)\n",
        "plt.show()"
      ],
      "execution_count": 7,
      "outputs": [
        {
          "output_type": "display_data",
          "data": {
            "image/png": "[encoded data removed]",
            "text/plain": [
              "<Figure size 432x288 with 1 Axes>"
            ]
          },
          "metadata": {
            "tags": [],
            "needs_background": "light"
          }
        }
      ]
    },
    {
      "cell_type": "code",
      "metadata": {
        "id": "EthJq8BksuZB",
        "colab_type": "code",
        "colab": {
          "base_uri": "https://localhost:8080/",
          "height": 0
        },
        "outputId": "bd947691-8723-4128-a33f-e538e0044ac0"
      },
      "source": [
        "X_train, X_val, Y_train, Y_val = train_test_split(data, labels, stratify=labels, random_state=0)\n",
        "print(X_train.shape, X_val.shape)"
      ],
      "execution_count": 8,
      "outputs": [
        {
          "output_type": "stream",
          "text": [
            "(750, 2) (250, 2)\n"
          ],
          "name": "stdout"
        }
      ]
    },
    {
      "cell_type": "markdown",
      "metadata": {
        "id": "lxgRKlWCtp--",
        "colab_type": "text"
      },
      "source": [
        "# Sigmoid Neuron Classification"
      ]
    },
    {
      "cell_type": "code",
      "metadata": {
        "id": "bavxg1jZtFRg",
        "colab_type": "code",
        "colab": {
          "base_uri": "https://localhost:8080/",
          "height": 362,
          "referenced_widgets": [
            "f96cdf6685db4f4aa62534f54b26bca6",
            "d2fb0b7b8eb940838c4a8e9b3d7b713e",
            "b6e7694af3ec44b1b724814cc8fe1efe",
            "3e1e2b13d35744e9a9b698464ec385a0",
            "9811462d814f48df9183462fd543f85c",
            "b5a04e75ce694e0b956f9ab44b71b9f7",
            "217cc3b1433c4662b690261da6ccaa82",
            "2479b84f50ec4c3eb08324839bc4e044"
          ]
        },
        "outputId": "c9ee0a14-b34e-4f6f-e2db-2d54b8a54140"
      },
      "source": [
        "sn = SigmoidNeuron()\n",
        "sn.fit(X_train, Y_train, epochs=1000, learning_rate=0.5, display_loss=True, loss_fn='mse')"
      ],
      "execution_count": 17,
      "outputs": [
        {
          "output_type": "stream",
          "text": [
            "/usr/local/lib/python3.6/dist-packages/ipykernel_launcher.py:47: TqdmDeprecationWarning: This function will be removed in tqdm==5.0.0\n",
            "Please use `tqdm.notebook.tqdm` instead of `tqdm.tqdm_notebook`\n"
          ],
          "name": "stderr"
        },
        {
          "output_type": "display_data",
          "data": {
            "application/vnd.jupyter.widget-view+json": {
              "model_id": "f96cdf6685db4f4aa62534f54b26bca6",
              "version_minor": 0,
              "version_major": 2
            },
            "text/plain": [
              "HBox(children=(IntProgress(value=0, max=1000), HTML(value='')))"
            ]
          },
          "metadata": {
            "tags": []
          }
        },
        {
          "output_type": "stream",
          "text": [
            "\n"
          ],
          "name": "stdout"
        },
        {
          "output_type": "display_data",
          "data": {
            "image/png": "[encoded data removed]",
            "text/plain": [
              "<Figure size 432x288 with 1 Axes>"
            ]
          },
          "metadata": {
            "tags": [],
            "needs_background": "light"
          }
        }
      ]
    },
    {
      "cell_type": "code",
      "metadata": {
        "id": "0Sa2jlFBx3g1",
        "colab_type": "code",
        "colab": {
          "base_uri": "https://localhost:8080/",
          "height": 51
        },
        "outputId": "d9dc4bc1-6f9f-4df0-be4c-801cd05d5092"
      },
      "source": [
        "Y_pred_train = sn.predict(X_train)\n",
        "Y_pred_binarised_train = (Y_pred_train >= 0.5).astype(np.int).ravel()\n",
        "Y_pred_val = sn.predict(X_val)\n",
        "Y_pred_binarised_val = (Y_pred_val >= 0.5).astype(np.int).ravel()\n",
        "accuracy_train = accuracy_score(Y_pred_binarised_train, Y_train)\n",
        "accuracy_val = accuracy_score(Y_pred_binarised_val, Y_val)\n",
        "\n",
        "print(\"Accuracy of train data: \", round(accuracy_train,2))\n",
        "print(\"Accuracy of validation data: \", round(accuracy_val,2))"
      ],
      "execution_count": 18,
      "outputs": [
        {
          "output_type": "stream",
          "text": [
            "Accuracy of train data:  0.67\n",
            "Accuracy of validation data:  0.66\n"
          ],
          "name": "stdout"
        }
      ]
    },
    {
      "cell_type": "code",
      "metadata": {
        "id": "cj3b93FU0437",
        "colab_type": "code",
        "colab": {
          "base_uri": "https://localhost:8080/",
          "height": 265
        },
        "outputId": "dad2e32d-5464-48b4-9474-18b27e36cc9c"
      },
      "source": [
        "plt.scatter(X_train[:,0], X_train[:,1], c=Y_pred_binarised_train, s=15*(np.abs(Y_pred_binarised_train-Y_train)+0.2), cmap=my_cmap)\n",
        "plt.show()"
      ],
      "execution_count": 29,
      "outputs": [
        {
          "output_type": "display_data",
          "data": {
            "image/png": "[encoded data removed]",
            "text/plain": [
              "<Figure size 432x288 with 1 Axes>"
            ]
          },
          "metadata": {
            "tags": [],
            "needs_background": "light"
          }
        }
      ]
    },
    {
      "cell_type": "markdown",
      "metadata": {
        "id": "cJkNnB4x3PKH",
        "colab_type": "text"
      },
      "source": [
        "# Class for Feed Forward Network"
      ]
    },
    {
      "cell_type": "code",
      "metadata": {
        "id": "ep8oTZMa26dy",
        "colab_type": "code",
        "colab": {}
      },
      "source": [
        "class FFN:\n",
        "    def __init__(self):\n",
        "        self.w1 = np.random.randn()\n",
        "        self.w2 = np.random.randn()\n",
        "        self.w3 = np.random.randn()\n",
        "        self.w4 = np.random.randn()\n",
        "        self.w5 = np.random.randn()\n",
        "        self.w6 = np.random.randn()\n",
        "        self.b1 = 0\n",
        "        self.b2 = 0\n",
        "        self.b3 = 0\n",
        "\n",
        "    def sigmoid(self,x):\n",
        "        return 1.0/(1.0+np.exp(-x))\n",
        "    \n",
        "    def forward_pass(self,x):\n",
        "        self.x1, self.x2 = x\n",
        "        self.a1 = self.w1*self.x1 + self.w2*self.x2 + self.b1\n",
        "        self.h1 = self.sigmoid(self.a1)\n",
        "        self.a2 = self.w3*self.x1 + self.w4*self.x2 + self.b2\n",
        "        self.h2 = self.sigmoid(self.a2)\n",
        "        self.a3 = self.w5*self.h1 + self.w6*self.h2 + self.b3\n",
        "        self.h3 = self.sigmoid(self.a3)\n",
        "        return self.h3\n",
        "    \n",
        "    def grad(self,x,y):\n",
        "        self.forward_pass(x)\n",
        "\n",
        "        self.dw5 = (self.h3-y)*(self.h3)*(1-self.h3)*self.h1\n",
        "        self.dw6 = (self.h3-y)*(self.h3)*(1-self.h3)*self.h2\n",
        "        self.db3 = (self.h3-y)*(self.h3)*(1-self.h3)\n",
        "\n",
        "        self.dw1 = (self.h3-y)*(self.h3)*(1-self.h3)*self.w5*(self.h1)*(1-self.h1)*self.x1\n",
        "        self.dw2 = (self.h3-y)*(self.h3)*(1-self.h3)*self.w5*(self.h1)*(1-self.h1)*self.x2\n",
        "        self.db1 = (self.h3-y)*(self.h3)*(1-self.h3)*self.w5*(self.h1)*(1-self.h1)\n",
        "\n",
        "        self.dw3 = (self.h3-y)*(self.h3)*(1-self.h3)*self.w6*(self.h2)*(1-self.h2)*self.x1\n",
        "        self.dw4 = (self.h3-y)*(self.h3)*(1-self.h3)*self.w6*(self.h2)*(1-self.h2)*self.x2\n",
        "        self.db2 = (self.h3-y)*(self.h3)*(1-self.h3)*self.w6*(self.h2)*(1-self.h2)\n",
        "\n",
        "    def fit(self, X, Y, epochs=1, learning_rate=1, initialise=True, display_loss=False):\n",
        "        if initialise:\n",
        "            self.w1 = np.random.randn()\n",
        "            self.w2 = np.random.randn()\n",
        "            self.w3 = np.random.randn()\n",
        "            self.w4 = np.random.randn()\n",
        "            self.w5 = np.random.randn()\n",
        "            self.w6 = np.random.randn()\n",
        "            self.b1 = 0\n",
        "            self.b2 = 0\n",
        "            self.b3 = 0\n",
        "        \n",
        "        if display_loss:\n",
        "            loss = {}\n",
        "\n",
        "        for i in tqdm_notebook(range(epochs), total=epochs, unit='epoch'):\n",
        "            dw1, dw2, dw3, dw4, dw5, dw6, db1, db2, db3 = [0]*9\n",
        "            for x,y in zip(X,Y):\n",
        "                self.grad(x,y)\n",
        "                dw1 += self.dw1\n",
        "                dw2 += self.dw2\n",
        "                dw3 += self.dw3\n",
        "                dw4 += self.dw4\n",
        "                dw5 += self.dw5\n",
        "                dw6 += self.dw6\n",
        "                db1 += self.db1\n",
        "                db2 += self.db2\n",
        "                db3 += self.db3\n",
        "\n",
        "            m = X.shape[1]\n",
        "            self.w1 -= learning_rate*dw1/m\n",
        "            self.w2 -= learning_rate*dw2/m\n",
        "            self.w3 -= learning_rate*dw3/m\n",
        "            self.w4 -= learning_rate*dw4/m\n",
        "            self.w5 -= learning_rate*dw5/m\n",
        "            self.w6 -= learning_rate*dw6/m\n",
        "            self.b1 -= learning_rate*db1/m\n",
        "            self.b2 -= learning_rate*db2/m\n",
        "            self.b3 -= learning_rate*db3/m\n",
        "\n",
        "            if display_loss:\n",
        "                Y_pred = self.predict(X)\n",
        "                loss[i] = mean_squared_error(Y_pred, Y)\n",
        "        \n",
        "        if display_loss:\n",
        "            plt.plot(np.array(list(loss.values())).astype(np.float))\n",
        "            plt.xlabel('Epochs')\n",
        "            plt.ylabel('Mean Squared Error')\n",
        "            plt.show()\n",
        "    \n",
        "    def predict(self,X):\n",
        "        Y_pred = []\n",
        "        for x in X:\n",
        "            y_pred = self.forward_pass(x)\n",
        "            Y_pred.append(y_pred)\n",
        "        return np.array(Y_pred)"
      ],
      "execution_count": 0,
      "outputs": []
    },
    {
      "cell_type": "markdown",
      "metadata": {
        "id": "A4eB22CxDB2R",
        "colab_type": "text"
      },
      "source": [
        "# FFN Classification"
      ]
    },
    {
      "cell_type": "code",
      "metadata": {
        "id": "6ItCoSps8HNn",
        "colab_type": "code",
        "colab": {
          "base_uri": "https://localhost:8080/",
          "height": 362,
          "referenced_widgets": [
            "dff6115fc6604d3796017e9c0dad637d",
            "8b2ce44ced6a4621b420404888abd884",
            "51d4fae1383e46868bea67b765edebf5",
            "46728af4498b4bbcbbe8e02c44ce24f3",
            "e920a23e10604a21a9fc3f02fd727f87",
            "2b15fd3be57149a09ec794063f901a43",
            "e009543d551346e6ae06d58630173e05",
            "e80f947e2ce944c08cbe3d7a53a4c7a4"
          ]
        },
        "outputId": "354ff65c-87b1-450a-da5c-30bef629eb91"
      },
      "source": [
        "ffn = FFN()\n",
        "ffn.fit(X_train, Y_train, epochs=2000, learning_rate=0.01, display_loss=True)"
      ],
      "execution_count": 25,
      "outputs": [
        {
          "output_type": "stream",
          "text": [
            "/usr/local/lib/python3.6/dist-packages/ipykernel_launcher.py:56: TqdmDeprecationWarning: This function will be removed in tqdm==5.0.0\n",
            "Please use `tqdm.notebook.tqdm` instead of `tqdm.tqdm_notebook`\n"
          ],
          "name": "stderr"
        },
        {
          "output_type": "display_data",
          "data": {
            "application/vnd.jupyter.widget-view+json": {
              "model_id": "dff6115fc6604d3796017e9c0dad637d",
              "version_minor": 0,
              "version_major": 2
            },
            "text/plain": [
              "HBox(children=(IntProgress(value=0, max=2000), HTML(value='')))"
            ]
          },
          "metadata": {
            "tags": []
          }
        },
        {
          "output_type": "stream",
          "text": [
            "\n"
          ],
          "name": "stdout"
        },
        {
          "output_type": "display_data",
          "data": {
            "image/png": "[encoded data removed]",
            "text/plain": [
              "<Figure size 432x288 with 1 Axes>"
            ]
          },
          "metadata": {
            "tags": [],
            "needs_background": "light"
          }
        }
      ]
    },
    {
      "cell_type": "code",
      "metadata": {
        "id": "XKkhcTfSCYx8",
        "colab_type": "code",
        "colab": {
          "base_uri": "https://localhost:8080/",
          "height": 51
        },
        "outputId": "e43e789b-09fb-407b-ceb3-a31912297f59"
      },
      "source": [
        "Y_pred_train = ffn.predict(X_train)\n",
        "Y_pred_binarised_train = (Y_pred_train >= 0.5).astype(np.int).ravel()\n",
        "Y_pred_val = ffn.predict(X_val)\n",
        "Y_pred_binarised_val = (Y_pred_val >= 0.5).astype(np.int).ravel()\n",
        "accuracy_train = accuracy_score(Y_pred_binarised_train, Y_train)\n",
        "accuracy_val = accuracy_score(Y_pred_binarised_val, Y_val)\n",
        "\n",
        "print(\"Accuracy of train data: \", round(accuracy_train,2))\n",
        "print(\"Accuracy of validation data: \", round(accuracy_val,2))"
      ],
      "execution_count": 26,
      "outputs": [
        {
          "output_type": "stream",
          "text": [
            "Accuracy of train data:  0.98\n",
            "Accuracy of validation data:  0.94\n"
          ],
          "name": "stdout"
        }
      ]
    },
    {
      "cell_type": "code",
      "metadata": {
        "id": "lgVDs4XqDL_c",
        "colab_type": "code",
        "colab": {
          "base_uri": "https://localhost:8080/",
          "height": 265
        },
        "outputId": "c33d79b2-b774-4bc4-dc4f-d46d08504ba7"
      },
      "source": [
        "plt.scatter(X_train[:,0], X_train[:,1], c=Y_pred_binarised_train, s=15*(np.abs(Y_pred_binarised_train-Y_train)+0.2), cmap=my_cmap)\n",
        "plt.show()"
      ],
      "execution_count": 28,
      "outputs": [
        {
          "output_type": "display_data",
          "data": {
            "image/png": "[encoded data removed]",
            "text/plain": [
              "<Figure size 432x288 with 1 Axes>"
            ]
          },
          "metadata": {
            "tags": [],
            "needs_background": "light"
          }
        }
      ]
    },
    {
      "cell_type": "markdown",
      "metadata": {
        "id": "MYYe5c_zD2wS",
        "colab_type": "text"
      },
      "source": [
        "# Class for generic FFN"
      ]
    },
    {
      "cell_type": "code",
      "metadata": {
        "id": "bLnDzCF0DUAZ",
        "colab_type": "code",
        "colab": {}
      },
      "source": [
        "class gen_FFN:\n",
        "\n",
        "    def __init__(self, n_inputs, hidden_sizes=[2]):\n",
        "        self.nx = n_inputs\n",
        "        self.ny = 1\n",
        "        self.nh = len(hidden_sizes)\n",
        "        self.sizes = [self.nx] + hidden_sizes + [self.ny]\n",
        "    \n",
        "        self.W = {}\n",
        "        self.B = {}\n",
        "        for i in range(self.nh+1):\n",
        "            self.W[i+1] = np.random.randn(self.sizes[i], self.sizes[i+1])\n",
        "            self.B[i+1] = np.zeros((1, self.sizes[i+1]))\n",
        "  \n",
        "    def sigmoid(self, x):\n",
        "        return 1.0/(1.0 + np.exp(-x))\n",
        "  \n",
        "    def forward_pass(self, x):\n",
        "        self.A = {}\n",
        "        self.H = {}\n",
        "        self.H[0] = x.reshape(1, -1)\n",
        "        for i in range(self.nh+1):\n",
        "            self.A[i+1] = np.matmul(self.H[i], self.W[i+1]) + self.B[i+1]\n",
        "            self.H[i+1] = self.sigmoid(self.A[i+1])\n",
        "        return self.H[self.nh+1]\n",
        "    \n",
        "    def grad_sigmoid(self, x):\n",
        "        return x*(1-x) \n",
        "        \n",
        "    def grad(self, x, y):\n",
        "        self.forward_pass(x)\n",
        "        self.dW = {}\n",
        "        self.dB = {}\n",
        "        self.dH = {}\n",
        "        self.dA = {}\n",
        "        L = self.nh + 1\n",
        "        self.dA[L] = (self.H[L] - y)\n",
        "        for k in range(L, 0, -1):\n",
        "            self.dW[k] = np.matmul(self.H[k-1].T, self.dA[k])\n",
        "            self.dB[k] = self.dA[k]\n",
        "            self.dH[k-1] = np.matmul(self.dA[k], self.W[k].T)\n",
        "            self.dA[k-1] = np.multiply(self.dH[k-1], self.grad_sigmoid(self.H[k-1]))\n",
        "        \n",
        "    def fit(self, X, Y, epochs=1, learning_rate=1, initialise=True, display_loss=False):\n",
        "        \n",
        "        # initialise w, b\n",
        "        if initialise:\n",
        "            for i in range(self.nh+1):\n",
        "                self.W[i+1] = np.random.randn(self.sizes[i], self.sizes[i+1])\n",
        "                self.B[i+1] = np.zeros((1, self.sizes[i+1]))\n",
        "        \n",
        "        if display_loss:\n",
        "            loss = {}\n",
        "        \n",
        "        for e in tqdm_notebook(range(epochs), total=epochs, unit=\"epoch\"):\n",
        "            dW = {}\n",
        "            dB = {}\n",
        "            for i in range(self.nh+1):\n",
        "                dW[i+1] = np.zeros((self.sizes[i], self.sizes[i+1]))\n",
        "                dB[i+1] = np.zeros((1, self.sizes[i+1]))\n",
        "            for x, y in zip(X, Y):\n",
        "                self.grad(x, y)\n",
        "                for i in range(self.nh+1):\n",
        "                    dW[i+1] += self.dW[i+1]\n",
        "                    dB[i+1] += self.dB[i+1]\n",
        "                \n",
        "            m = X.shape[1]\n",
        "            for i in range(self.nh+1):\n",
        "                self.W[i+1] -= learning_rate * dW[i+1] / m\n",
        "                self.B[i+1] -= learning_rate * dB[i+1] / m\n",
        "            \n",
        "            if display_loss:\n",
        "                Y_pred = self.predict(X)\n",
        "                loss[e] = mean_squared_error(Y_pred, Y)\n",
        "        \n",
        "        if display_loss:\n",
        "            plt.plot(np.array(list(loss.values())).astype(np.float))\n",
        "            plt.xlabel('Epochs')\n",
        "            plt.ylabel('Mean Squared Error')\n",
        "            plt.show()\n",
        "        \n",
        "    def predict(self, X):\n",
        "        Y_pred = []\n",
        "        for x in X:\n",
        "            y_pred = self.forward_pass(x)\n",
        "            Y_pred.append(y_pred)\n",
        "        return np.array(Y_pred).squeeze()"
      ],
      "execution_count": 0,
      "outputs": []
    },
    {
      "cell_type": "markdown",
      "metadata": {
        "id": "fpL5qUvSGs8e",
        "colab_type": "text"
      },
      "source": [
        "# Generic FFN Classification"
      ]
    },
    {
      "cell_type": "code",
      "metadata": {
        "id": "djLzpiKgGJ-3",
        "colab_type": "code",
        "colab": {
          "base_uri": "https://localhost:8080/",
          "height": 362,
          "referenced_widgets": [
            "0abe98dcc1394c5eb3d19116e9c977e3",
            "77de76af9bcd426f849212663e169edb",
            "7a7b1dadd7b24cc789f6eea7fee25ce9",
            "c333945e501649f6b1ba3b697d629d61",
            "7b55ad4afa7a48cf96ede8d79b15e28b",
            "8193861f1d85416290bacde8ecd2fd1b",
            "0434d40777b6463daad8cfdb6e5e7b8e",
            "13abbb44d0fd48a29e390b01441b33a6"
          ]
        },
        "outputId": "8d7f1428-5f28-4472-8a98-bb6a11e431cc"
      },
      "source": [
        "gffn = gen_FFN(2, [2,3])\n",
        "gffn.fit(X_train, Y_train, epochs=1000, learning_rate=0.01, display_loss=True)"
      ],
      "execution_count": 35,
      "outputs": [
        {
          "output_type": "stream",
          "text": [
            "/usr/local/lib/python3.6/dist-packages/ipykernel_launcher.py:55: TqdmDeprecationWarning: This function will be removed in tqdm==5.0.0\n",
            "Please use `tqdm.notebook.tqdm` instead of `tqdm.tqdm_notebook`\n"
          ],
          "name": "stderr"
        },
        {
          "output_type": "display_data",
          "data": {
            "application/vnd.jupyter.widget-view+json": {
              "model_id": "0abe98dcc1394c5eb3d19116e9c977e3",
              "version_minor": 0,
              "version_major": 2
            },
            "text/plain": [
              "HBox(children=(IntProgress(value=0, max=1000), HTML(value='')))"
            ]
          },
          "metadata": {
            "tags": []
          }
        },
        {
          "output_type": "stream",
          "text": [
            "\n"
          ],
          "name": "stdout"
        },
        {
          "output_type": "display_data",
          "data": {
            "image/png": "[encoded data removed]",
            "text/plain": [
              "<Figure size 432x288 with 1 Axes>"
            ]
          },
          "metadata": {
            "tags": [],
            "needs_background": "light"
          }
        }
      ]
    },
    {
      "cell_type": "code",
      "metadata": {
        "id": "XsqzJcNEHLni",
        "colab_type": "code",
        "colab": {
          "base_uri": "https://localhost:8080/",
          "height": 51
        },
        "outputId": "40f6f650-03b2-470a-e5ab-2385247354f2"
      },
      "source": [
        "Y_pred_train = gffn.predict(X_train)\n",
        "Y_pred_binarised_train = (Y_pred_train >= 0.5).astype(np.int).ravel()\n",
        "Y_pred_val = gffn.predict(X_val)\n",
        "Y_pred_binarised_val = (Y_pred_val >= 0.5).astype(np.int).ravel()\n",
        "accuracy_train = accuracy_score(Y_pred_binarised_train, Y_train)\n",
        "accuracy_val = accuracy_score(Y_pred_binarised_val, Y_val)\n",
        "\n",
        "print(\"Accuracy of train data: \", round(accuracy_train,2))\n",
        "print(\"Accuracy of validation data: \", round(accuracy_val,2))"
      ],
      "execution_count": 36,
      "outputs": [
        {
          "output_type": "stream",
          "text": [
            "Accuracy of train data:  0.97\n",
            "Accuracy of validation data:  0.93\n"
          ],
          "name": "stdout"
        }
      ]
    },
    {
      "cell_type": "code",
      "metadata": {
        "id": "PZJXGFzOHln9",
        "colab_type": "code",
        "colab": {
          "base_uri": "https://localhost:8080/",
          "height": 265
        },
        "outputId": "384e69ba-fd2f-413a-ed9d-07a6436b8019"
      },
      "source": [
        "plt.scatter(X_train[:,0], X_train[:,1], c=Y_pred_binarised_train, s=15*(np.abs(Y_pred_binarised_train-Y_train)+0.2), cmap=my_cmap)\n",
        "plt.show()"
      ],
      "execution_count": 37,
      "outputs": [
        {
          "output_type": "display_data",
          "data": {
            "image/png": "[encoded data removed]",
            "text/plain": [
              "<Figure size 432x288 with 1 Axes>"
            ]
          },
          "metadata": {
            "tags": [],
            "needs_background": "light"
          }
        }
      ]
    },
    {
      "cell_type": "markdown",
      "metadata": {
        "id": "mMqHKHJXIIRQ",
        "colab_type": "text"
      },
      "source": [
        "# Class for Multi-Class FFN"
      ]
    },
    {
      "cell_type": "code",
      "metadata": {
        "id": "I00oluVaHsUC",
        "colab_type": "code",
        "colab": {}
      },
      "source": [
        "class multi_FFN:\n",
        "  \n",
        "    def __init__(self, n_inputs, n_outputs, hidden_sizes=[3]):\n",
        "        self.nx = n_inputs\n",
        "        self.ny = n_outputs\n",
        "        self.nh = len(hidden_sizes)\n",
        "        self.sizes = [self.nx] + hidden_sizes + [self.ny] \n",
        "\n",
        "        self.W = {}\n",
        "        self.B = {}\n",
        "        for i in range(self.nh+1):\n",
        "            self.W[i+1] = np.random.randn(self.sizes[i], self.sizes[i+1])\n",
        "            self.B[i+1] = np.zeros((1, self.sizes[i+1]))\n",
        "      \n",
        "    def sigmoid(self, x):\n",
        "        return 1.0/(1.0 + np.exp(-x))\n",
        "  \n",
        "    def softmax(self, x):\n",
        "        exps = np.exp(x)\n",
        "        return exps / np.sum(exps)\n",
        "\n",
        "    def forward_pass(self, x):\n",
        "        self.A = {}\n",
        "        self.H = {}\n",
        "        self.H[0] = x.reshape(1, -1)\n",
        "        for i in range(self.nh):\n",
        "            self.A[i+1] = np.matmul(self.H[i], self.W[i+1]) + self.B[i+1]\n",
        "            self.H[i+1] = self.sigmoid(self.A[i+1])\n",
        "        self.A[self.nh+1] = np.matmul(self.H[self.nh], self.W[self.nh+1]) + self.B[self.nh+1]\n",
        "        self.H[self.nh+1] = self.softmax(self.A[self.nh+1])\n",
        "        return self.H[self.nh+1]\n",
        "  \n",
        "    def predict(self, X):\n",
        "        Y_pred = []\n",
        "        for x in X:\n",
        "            y_pred = self.forward_pass(x)\n",
        "            Y_pred.append(y_pred)\n",
        "        return np.array(Y_pred).squeeze()\n",
        " \n",
        "    def grad_sigmoid(self, x):\n",
        "        return x*(1-x) \n",
        "  \n",
        "    def cross_entropy(self,label,pred):\n",
        "        yl=np.multiply(pred,label)\n",
        "        yl=yl[yl!=0]\n",
        "        yl=-np.log(yl)\n",
        "        yl=np.mean(yl)\n",
        "        return yl\n",
        " \n",
        "    def grad(self, x, y):\n",
        "        self.forward_pass(x)\n",
        "        self.dW = {}\n",
        "        self.dB = {}\n",
        "        self.dH = {}\n",
        "        self.dA = {}\n",
        "        L = self.nh + 1\n",
        "        self.dA[L] = (self.H[L] - y)\n",
        "        for k in range(L, 0, -1):\n",
        "            self.dW[k] = np.matmul(self.H[k-1].T, self.dA[k])\n",
        "            self.dB[k] = self.dA[k]\n",
        "            self.dH[k-1] = np.matmul(self.dA[k], self.W[k].T)\n",
        "            self.dA[k-1] = np.multiply(self.dH[k-1], self.grad_sigmoid(self.H[k-1])) \n",
        "    \n",
        "    def fit(self, X, Y, epochs=100, initialize='True', learning_rate=0.01, display_loss=False):\n",
        "      \n",
        "        if display_loss:\n",
        "            loss = {}\n",
        "      \n",
        "        if initialize:\n",
        "            for i in range(self.nh+1):\n",
        "                self.W[i+1] = np.random.randn(self.sizes[i], self.sizes[i+1])\n",
        "                self.B[i+1] = np.zeros((1, self.sizes[i+1]))\n",
        "        \n",
        "        for epoch in tqdm_notebook(range(epochs), total=epochs, unit=\"epoch\"):\n",
        "            dW = {}\n",
        "            dB = {}\n",
        "            for i in range(self.nh+1):\n",
        "                dW[i+1] = np.zeros((self.sizes[i], self.sizes[i+1]))\n",
        "                dB[i+1] = np.zeros((1, self.sizes[i+1]))\n",
        "            for x, y in zip(X, Y):\n",
        "                self.grad(x, y)\n",
        "                for i in range(self.nh+1):\n",
        "                    dW[i+1] += self.dW[i+1]\n",
        "                    dB[i+1] += self.dB[i+1]\n",
        "                  \n",
        "            m = X.shape[1]\n",
        "            for i in range(self.nh+1):\n",
        "                self.W[i+1] -= learning_rate * (dW[i+1]/m)\n",
        "                self.B[i+1] -= learning_rate * (dB[i+1]/m)\n",
        "        \n",
        "            if display_loss:\n",
        "                Y_pred = self.predict(X) \n",
        "                loss[epoch] = self.cross_entropy(Y, Y_pred)\n",
        "    \n",
        "        if display_loss:\n",
        "            plt.plot(np.array(list(loss.values())).astype(np.float))\n",
        "            plt.xlabel('Epochs')\n",
        "            plt.ylabel('CE')\n",
        "            plt.show()"
      ],
      "execution_count": 0,
      "outputs": []
    },
    {
      "cell_type": "markdown",
      "metadata": {
        "id": "BHgs0T0kO6_3",
        "colab_type": "text"
      },
      "source": [
        "# Multi-Class FFN Classification"
      ]
    },
    {
      "cell_type": "code",
      "metadata": {
        "id": "LKF1daRaJ1z8",
        "colab_type": "code",
        "colab": {
          "base_uri": "https://localhost:8080/",
          "height": 34
        },
        "outputId": "7b37f692-c151-445c-a640-79c794088e0b"
      },
      "source": [
        "X_train, X_val, Y_train, Y_val = train_test_split(data, labels_orig, stratify=labels_orig, random_state=0)\n",
        "print(X_train.shape, X_val.shape, labels_orig.shape)"
      ],
      "execution_count": 52,
      "outputs": [
        {
          "output_type": "stream",
          "text": [
            "(750, 2) (250, 2) (1000,)\n"
          ],
          "name": "stdout"
        }
      ]
    },
    {
      "cell_type": "code",
      "metadata": {
        "id": "JVmeHJYtKXKi",
        "colab_type": "code",
        "colab": {
          "base_uri": "https://localhost:8080/",
          "height": 34
        },
        "outputId": "f1c93378-65f8-4c5a-b747-afa87aa52734"
      },
      "source": [
        "enc = OneHotEncoder()\n",
        "y_OH_train = enc.fit_transform(np.expand_dims(Y_train,1)).toarray()\n",
        "y_OH_val = enc.fit_transform(np.expand_dims(Y_val,1)).toarray()\n",
        "print(y_OH_train.shape, y_OH_val.shape)"
      ],
      "execution_count": 53,
      "outputs": [
        {
          "output_type": "stream",
          "text": [
            "(750, 4) (250, 4)\n"
          ],
          "name": "stdout"
        }
      ]
    },
    {
      "cell_type": "code",
      "metadata": {
        "id": "hZSVRMDZONwd",
        "colab_type": "code",
        "colab": {
          "base_uri": "https://localhost:8080/",
          "height": 362,
          "referenced_widgets": [
            "5fe185cb3042459a8bf9a86cfaacb800",
            "49966cfbd9a24ae381e448a905125267",
            "a8b795defaef4f59a1efa6d1deaca54e",
            "1b690d0a5c2b4cfeae5607ea92ef1af7",
            "b4cf3ec616e9440a932e8996f945945c",
            "4b296623d0e042e9abc8df02e6bdf1ae",
            "64e8ee1d59a54a029bcddf2ccd790fff",
            "ae2b49fa855145b1af64b6efde4da6df"
          ]
        },
        "outputId": "d008ff85-ea79-4b09-cef9-cc732d6e08a6"
      },
      "source": [
        "mffn = multi_FFN(2,4,[2,3])\n",
        "mffn.fit(X_train, y_OH_train, epochs=2000, learning_rate=0.005, display_loss=True)"
      ],
      "execution_count": 54,
      "outputs": [
        {
          "output_type": "stream",
          "text": [
            "/usr/local/lib/python3.6/dist-packages/ipykernel_launcher.py:74: TqdmDeprecationWarning: This function will be removed in tqdm==5.0.0\n",
            "Please use `tqdm.notebook.tqdm` instead of `tqdm.tqdm_notebook`\n"
          ],
          "name": "stderr"
        },
        {
          "output_type": "display_data",
          "data": {
            "application/vnd.jupyter.widget-view+json": {
              "model_id": "5fe185cb3042459a8bf9a86cfaacb800",
              "version_minor": 0,
              "version_major": 2
            },
            "text/plain": [
              "HBox(children=(IntProgress(value=0, max=2000), HTML(value='')))"
            ]
          },
          "metadata": {
            "tags": []
          }
        },
        {
          "output_type": "stream",
          "text": [
            "\n"
          ],
          "name": "stdout"
        },
        {
          "output_type": "display_data",
          "data": {
            "image/png": "[encoded data removed]",
            "text/plain": [
              "<Figure size 432x288 with 1 Axes>"
            ]
          },
          "metadata": {
            "tags": [],
            "needs_background": "light"
          }
        }
      ]
    },
    {
      "cell_type": "code",
      "metadata": {
        "id": "xytXzxmkOzuw",
        "colab_type": "code",
        "colab": {
          "base_uri": "https://localhost:8080/",
          "height": 51
        },
        "outputId": "99fd140b-1e20-4c5c-8acf-4232f3468d1d"
      },
      "source": [
        "Y_pred_train = mffn.predict(X_train)\n",
        "Y_pred_train = np.argmax(Y_pred_train,1)\n",
        "Y_pred_val = mffn.predict(X_val)\n",
        "Y_pred_val = np.argmax(Y_pred_val,1)\n",
        "accuracy_train = accuracy_score(Y_pred_train, Y_train)\n",
        "accuracy_val = accuracy_score(Y_pred_val, Y_val)\n",
        "\n",
        "print(\"Accuracy of train data: \", round(accuracy_train,2))\n",
        "print(\"Accuracy of validation data: \", round(accuracy_val,2))"
      ],
      "execution_count": 55,
      "outputs": [
        {
          "output_type": "stream",
          "text": [
            "Accuracy of train data:  0.92\n",
            "Accuracy of validation data:  0.91\n"
          ],
          "name": "stdout"
        }
      ]
    },
    {
      "cell_type": "code",
      "metadata": {
        "id": "_sdAKYAjPIIA",
        "colab_type": "code",
        "colab": {
          "base_uri": "https://localhost:8080/",
          "height": 265
        },
        "outputId": "1f7f73c9-d93e-42f6-b099-f708e80d9ed2"
      },
      "source": [
        "plt.scatter(X_train[:,0], X_train[:,1], c=Y_pred_train, s=15*(np.abs(Y_pred_train-Y_train)+0.2), cmap=my_cmap)\n",
        "plt.show()"
      ],
      "execution_count": 56,
      "outputs": [
        {
          "output_type": "display_data",
          "data": {
            "image/png": "[encoded data removed]",
            "text/plain": [
              "<Figure size 432x288 with 1 Axes>"
            ]
          },
          "metadata": {
            "tags": [],
            "needs_background": "light"
          }
        }
      ]
    }
  ]
}