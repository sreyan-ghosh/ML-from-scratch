{
 "cells": [
  {
   "cell_type": "code",
   "execution_count": 1,
   "metadata": {},
   "outputs": [],
   "source": [
    "import numpy as np\n",
    "import matplotlib.pyplot as plt\n",
    "np.random.seed(6)\n",
    "import math"
   ]
  },
  {
   "cell_type": "code",
   "execution_count": 2,
   "metadata": {},
   "outputs": [
    {
     "data": {
      "image/png": "[encoded data removed]",
      "text/plain": [
       "<Figure size 432x288 with 1 Axes>"
      ]
     },
     "metadata": {
      "needs_background": "light"
     },
     "output_type": "display_data"
    }
   ],
   "source": [
    "from sklearn.datasets.samples_generator import make_blobs\n",
    "(X,y)=make_blobs(n_samples=50,n_features=2,centers=2,cluster_std=1.05,random_state=40)\n",
    "X1=np.c_[np.ones((X.shape[0])),X]\n",
    "plt.scatter(X1[:,1],X1[:,2],marker='o',c=y)\n",
    "plt.axis([-5,10,-12,-1])\n",
    "plt.show()"
   ]
  },
  {
   "cell_type": "code",
   "execution_count": 3,
   "metadata": {},
   "outputs": [],
   "source": [
    "positiveX=[]\n",
    "negativeX=[]\n",
    "for i,v in enumerate(y):\n",
    "    if v==0:\n",
    "        negativeX.append(X[i])\n",
    "    else:\n",
    "        positiveX.append(X[i])\n",
    "\n",
    "data_dict={-1:np.array(negativeX),1:np.array(positiveX)}"
   ]
  },
  {
   "cell_type": "code",
   "execution_count": 4,
   "metadata": {},
   "outputs": [],
   "source": [
    "w=[]\n",
    "b=[]\n",
    "\n",
    "max_feature_value=float('-inf')\n",
    "min_feature_value=float('+inf')\n",
    "\n",
    "for yi in data_dict:\n",
    "    if np.amax(data_dict[yi])>max_feature_value:\n",
    "        max_feature_value=np.amax(data_dict[yi])\n",
    "        \n",
    "    if np.amin(data_dict[yi])<min_feature_value:\n",
    "        min_feature_value=np.amin(data_dict[yi])\n",
    "        \n",
    "learning_rate=[max_feature_value*0.1, max_feature_value-0.01, max_feature_value*0.001,]"
   ]
  },
  {
   "cell_type": "code",
   "execution_count": 5,
   "metadata": {},
   "outputs": [],
   "source": [
    "def SVM_Training(data_dict):\n",
    "    i=1\n",
    "    global w\n",
    "    global b\n",
    "    length_Wvector={}\n",
    "    transforms=[[1,1],[-1,1],[-1,-1],[1,-1]]\n",
    "    \n",
    "    b_step_size=2\n",
    "    b_multiple=5\n",
    "    w_optimum=max_feature_value*0.5\n",
    "    \n",
    "    for lrate in learning_rate:\n",
    "        w=np.array([w_optimum,w_optimum])\n",
    "        optimized=False\n",
    "        while not optimized:\n",
    "            for b in np.arange(-1*(max_feature_value*b_step_size),max_feature_value*b_step_size,lrate*b_multiple):\n",
    "                for transformation in transforms:\n",
    "                    w_t=w*transformation\n",
    "                    correctly_classified=True\n",
    "                \n",
    "                    for yi in data_dict:\n",
    "                        for xi in data_dict[yi]:\n",
    "                            if yi*(np.dot(w_t,xi)+b)<1:\n",
    "                                correctly_classified=False\n",
    "                    if correctly_classified:\n",
    "                        length_Wvector[np.linalg.norm(w_t)]=[w_t,b]\n",
    "            if w[0]<0:\n",
    "                optimized=True\n",
    "            else:\n",
    "                w=w-lrate\n",
    "        norms=sorted([n for n in length_Wvector])\n",
    "        minimum_Wlength=length_Wvector[norms[0]]\n",
    "        w=minimum_Wlength[0]\n",
    "        b=minimum_Wlength[1]\n",
    "        w_optimum=w[0]+lrate*2"
   ]
  },
  {
   "cell_type": "code",
   "execution_count": 6,
   "metadata": {},
   "outputs": [],
   "source": [
    "SVM_Training(data_dict)"
   ]
  },
  {
   "cell_type": "code",
   "execution_count": 7,
   "metadata": {},
   "outputs": [
    {
     "data": {
      "image/png": "[encoded data removed]",
      "text/plain": [
       "<Figure size 432x288 with 1 Axes>"
      ]
     },
     "metadata": {
      "needs_background": "light"
     },
     "output_type": "display_data"
    }
   ],
   "source": [
    "colors={1:'r',-1:'b'}\n",
    "fig=plt.figure()\n",
    "ax=fig.add_subplot(1,1,1)"
   ]
  },
  {
   "cell_type": "code",
   "execution_count": 29,
   "metadata": {},
   "outputs": [],
   "source": [
    "def visualise(data_dict):\n",
    "    plt.scatter(X1[:,1],X1[:,2],marker='o',c=y)\n",
    "    \n",
    "    def hyperplane_value(x,w,b,v):\n",
    "        return (-w[0]*x-b+v)/w[1]\n",
    "    \n",
    "    datarange=(min_feature_value*0.9,max_feature_value*1.)\n",
    "    hyp_x_min=datarange[0]\n",
    "    hyp_x_max=datarange[1]\n",
    "    \n",
    "    psv1=hyperplane_value(hyp_x_min,w,b,1)\n",
    "    psv2=hyperplane_value(hyp_x_max,w,b,1)\n",
    "    ax.plot([hyp_x_min,hyp_x_max],[psv1,psv2],'k')\n",
    "    \n",
    "    nsv1=hyperplane_value(hyp_x_min,w,b,-1)\n",
    "    nsv2=hyperplane_value(hyp_x_max,w,b,-1)\n",
    "    ax.plot([hyp_x_min,hyp_x_max],[nsv1,nsv2],'k')\n",
    "    \n",
    "    db1=hyperplane_value(hyp_x_min,w,b,0)\n",
    "    db2=hyperplane_value(hyp_x_max,w,b,0)\n",
    "    ax.plot([hyp_x_min,hyp_x_max],[db1,db2],'y--')\n",
    "    \n",
    "    plt.axis([-5,10,-12,-1])\n",
    "    plt.show()"
   ]
  },
  {
   "cell_type": "code",
   "execution_count": 30,
   "metadata": {},
   "outputs": [
    {
     "data": {
      "image/png": "[encoded data removed]",
      "text/plain": [
       "<Figure size 432x288 with 1 Axes>"
      ]
     },
     "metadata": {
      "needs_background": "light"
     },
     "output_type": "display_data"
    }
   ],
   "source": [
    "visualise(data_dict)"
   ]
  },
  {
   "cell_type": "code",
   "execution_count": 10,
   "metadata": {},
   "outputs": [
    {
     "name": "stdout",
     "output_type": "stream",
     "text": [
      "1, 1, -1, 1, -1, "
     ]
    }
   ],
   "source": [
    "def predict(features):\n",
    "    dot_result=np.sign(np.dot(np.array(features),w)+b)\n",
    "    return dot_result.astype(int)\n",
    "\n",
    "for i in X[:5]:\n",
    "    print(predict(i), end=', ')"
   ]
  },
  {
   "cell_type": "code",
   "execution_count": 11,
   "metadata": {},
   "outputs": [
    {
     "data": {
      "text/plain": [
       "array([ 1,  1, -1,  1, -1, -1,  1, -1,  1, -1,  1,  1, -1,  1,  1,  1,  1,\n",
       "        1,  1,  1, -1, -1, -1, -1, -1, -1, -1, -1, -1, -1,  1,  1, -1, -1,\n",
       "        1, -1,  1, -1,  1,  1, -1, -1,  1,  1,  1, -1, -1,  1,  1, -1])"
      ]
     },
     "execution_count": 11,
     "metadata": {},
     "output_type": "execute_result"
    }
   ],
   "source": [
    "l=[]\n",
    "for xi in X:\n",
    "    l.append(predict(xi[:6]))\n",
    "l=np.array(l).astype(int)\n",
    "l"
   ]
  },
  {
   "cell_type": "code",
   "execution_count": 12,
   "metadata": {},
   "outputs": [
    {
     "data": {
      "text/plain": [
       "array([-1.8171622 , -9.22909875])"
      ]
     },
     "execution_count": 12,
     "metadata": {},
     "output_type": "execute_result"
    }
   ],
   "source": [
    "X[4]"
   ]
  },
  {
   "cell_type": "code",
   "execution_count": 15,
   "metadata": {},
   "outputs": [
    {
     "data": {
      "text/plain": [
       "array([ 1,  1, -1,  1, -1, -1,  1, -1,  1, -1,  1,  1, -1,  1,  1,  1,  1,\n",
       "        1,  1,  1, -1, -1, -1, -1, -1, -1, -1, -1, -1, -1,  1,  1, -1, -1,\n",
       "        1, -1,  1, -1,  1,  1, -1, -1,  1,  1,  1, -1, -1,  1,  1, -1])"
      ]
     },
     "execution_count": 15,
     "metadata": {},
     "output_type": "execute_result"
    }
   ],
   "source": [
    "for i,v in enumerate(y):\n",
    "    if v==0:\n",
    "        y[i]=-1\n",
    "y"
   ]
  },
  {
   "cell_type": "code",
   "execution_count": 18,
   "metadata": {},
   "outputs": [
    {
     "name": "stdout",
     "output_type": "stream",
     "text": [
      "100.0\n"
     ]
    }
   ],
   "source": [
    "from sklearn.metrics import accuracy_score\n",
    "print(accuracy_score(y,l)*100)"
   ]
  },
  {
   "cell_type": "code",
   "execution_count": null,
   "metadata": {},
   "outputs": [],
   "source": []
  }
 ],
 "metadata": {
  "kernelspec": {
   "display_name": "Python 3",
   "language": "python",
   "name": "python3"
  },
  "language_info": {
   "codemirror_mode": {
    "name": "ipython",
    "version": 3
   },
   "file_extension": ".py",
   "mimetype": "text/x-python",
   "name": "python",
   "nbconvert_exporter": "python",
   "pygments_lexer": "ipython3",
   "version": "3.7.4"
  }
 },
 "nbformat": 4,
 "nbformat_minor": 2
}
